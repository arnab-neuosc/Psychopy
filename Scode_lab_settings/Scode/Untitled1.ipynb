{
 "cells": [
  {
   "cell_type": "code",
   "execution_count": 6,
   "id": "f6c57289-2303-47ed-9958-ceba48c2e421",
   "metadata": {},
   "outputs": [],
   "source": [
    "from psychopy import visual, core, event, gui,locale_setup\n",
    "import os\n",
    "import json\n",
    "import numpy as np\n",
    "from angle2pix import *"
   ]
  },
  {
   "cell_type": "code",
   "execution_count": 3,
   "id": "b4e36c09-21c0-476b-9628-55028cfedab2",
   "metadata": {},
   "outputs": [],
   "source": [
    "import basic_setup_experiment\n",
    "import create_file_directory\n",
    "import prompt_input\n",
    "import initialise_exp_variables\n",
    "import introduce_triggers\n",
    "import initialise_stim_variables\n",
    "import read_visual_stim\n",
    "import initialise_screen_variables\n",
    "import basic_setup_experiment\n",
    "import txt_collection\n",
    "import basic_setup_screen\n",
    "import fix_dot_properties\n",
    "import time2frame\n",
    "import visual_stim_properties\n",
    "import make_texture_images\n",
    "import initialise_trigger_port\n",
    "import KbQueue_start_routine\n",
    "import showInstructions\n",
    "import draw_myText\n",
    "import display_fixation_dot\n",
    "import display_visual_stim\n",
    "import response_collector\n",
    "import display_cue\n",
    "import calculate_show_feedback\n",
    "import cleanup\n",
    "import send_trigger\n",
    "import initialise_eyelink"
   ]
  },
  {
   "cell_type": "code",
   "execution_count": 10,
   "id": "739e28d9-3fcc-499d-9662-338fcda977f5",
   "metadata": {},
   "outputs": [
    {
     "ename": "NameError",
     "evalue": "name 'psychoJS' is not defined",
     "output_type": "error",
     "traceback": [
      "\u001b[0;31m---------------------------------------------------------------------------\u001b[0m",
      "\u001b[0;31mNameError\u001b[0m                                 Traceback (most recent call last)",
      "Cell \u001b[0;32mIn[10], line 1\u001b[0m\n\u001b[0;32m----> 1\u001b[0m \u001b[43mpsychoJS\u001b[49m\u001b[38;5;241m.\u001b[39mquit()\n\u001b[1;32m      2\u001b[0m os\u001b[38;5;241m.\u001b[39msystem(\u001b[38;5;124m'\u001b[39m\u001b[38;5;124mcls\u001b[39m\u001b[38;5;124m'\u001b[39m \u001b[38;5;28;01mif\u001b[39;00m os\u001b[38;5;241m.\u001b[39mname \u001b[38;5;241m==\u001b[39m \u001b[38;5;124m'\u001b[39m\u001b[38;5;124mnt\u001b[39m\u001b[38;5;124m'\u001b[39m \u001b[38;5;28;01melse\u001b[39;00m \u001b[38;5;124m'\u001b[39m\u001b[38;5;124mclear\u001b[39m\u001b[38;5;124m'\u001b[39m)\n",
      "\u001b[0;31mNameError\u001b[0m: name 'psychoJS' is not defined"
     ]
    }
   ],
   "source": [
    "psychoJS.quit()\n",
    "os.system('cls' if os.name == 'nt' else 'clear')\n"
   ]
  },
  {
   "cell_type": "code",
   "execution_count": null,
   "id": "a99e0154-ac7e-423c-926e-c7ff9a3e8fcd",
   "metadata": {},
   "outputs": [],
   "source": []
  },
  {
   "cell_type": "code",
   "execution_count": null,
   "id": "0493d2b7-72ce-443b-ac7d-671aa55202fc",
   "metadata": {},
   "outputs": [],
   "source": []
  },
  {
   "cell_type": "code",
   "execution_count": null,
   "id": "da6395e1-6dec-4774-9571-bea918244945",
   "metadata": {},
   "outputs": [],
   "source": []
  }
 ],
 "metadata": {
  "kernelspec": {
   "display_name": "Python 3 (ipykernel)",
   "language": "python",
   "name": "python3"
  },
  "language_info": {
   "codemirror_mode": {
    "name": "ipython",
    "version": 3
   },
   "file_extension": ".py",
   "mimetype": "text/x-python",
   "name": "python",
   "nbconvert_exporter": "python",
   "pygments_lexer": "ipython3",
   "version": "3.10.14"
  }
 },
 "nbformat": 4,
 "nbformat_minor": 5
}
